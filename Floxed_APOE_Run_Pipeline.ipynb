{
  "nbformat": 4,
  "nbformat_minor": 0,
  "metadata": {
    "colab": {
      "provenance": [],
      "authorship_tag": "ABX9TyMI5cb5eV6X4FNz7dhnjG/d",
      "include_colab_link": true
    },
    "kernelspec": {
      "name": "python3",
      "display_name": "Python 3"
    },
    "language_info": {
      "name": "python"
    }
  },
  "cells": [
    {
      "cell_type": "markdown",
      "metadata": {
        "id": "view-in-github",
        "colab_type": "text"
      },
      "source": [
        "<a href=\"https://colab.research.google.com/github/dtabuena/Floxed_APOE/blob/main/Floxed_APOE_Run_Pipeline.ipynb\" target=\"_parent\"><img src=\"https://colab.research.google.com/assets/colab-badge.svg\" alt=\"Open In Colab\"/></a>"
      ]
    },
    {
      "cell_type": "code",
      "execution_count": null,
      "metadata": {
        "id": "ooYQENzqRF8a",
        "colab": {
          "base_uri": "https://localhost:8080/"
        },
        "outputId": "407a8c36-318b-4599-b19b-4c2c97837a42"
      },
      "outputs": [
        {
          "output_type": "stream",
          "name": "stdout",
          "text": [
            "Looking in indexes: https://pypi.org/simple, https://us-python.pkg.dev/colab-wheels/public/simple/\n",
            "Requirement already satisfied: openpyxl in /usr/local/lib/python3.7/dist-packages (3.0.10)\n",
            "Requirement already satisfied: et-xmlfile in /usr/local/lib/python3.7/dist-packages (from openpyxl) (1.1.0)\n"
          ]
        }
      ],
      "source": [
        "'Get Standard Modules'\n",
        "\n",
        "import pandas as pd\n",
        "import numpy as np\n",
        "import matplotlib\n",
        "import matplotlib.pyplot as plt\n",
        "import scipy\n",
        "from scipy import stats\n",
        "import os\n",
        "from scipy.signal import butter,filtfilt\n",
        "from tqdm import tqdm\n",
        "import warnings\n",
        "from IPython.display import clear_output\n",
        "from datetime import datetime\n",
        "import sys\n",
        "import warnings\n",
        "import shutil\n",
        "from google.colab import files\n",
        "warnings.filterwarnings('ignore')\n",
        "np.set_printoptions(threshold=sys.maxsize)\n",
        "clear_output(wait=False)\n",
        "\n",
        "\n",
        "\n",
        "!pip install openpyxl\n",
        "!pip install XlsxWriter\n",
        "\n",
        "\n",
        "'''Get Repositories'''\n",
        "try: shutil.rmtree('/content/EphysLib')\n",
        "except: None\n",
        "\n",
        "\"run dtabuena's ephys notebooks\"\n",
        "!git clone https://github.com/dtabuena/EphysLib\n",
        "to_import = [\n",
        "            'ABF_Quality_Control.ipynb',\n",
        "            'Basic_Ephys.ipynb',\n",
        "            'Simple_ABF_tools.ipynb',             \n",
        "            'Pipeline_Wrapper.ipynb'\n",
        "            'fun_math.ipynb',\n",
        "            'importing_abfs_from_dropbox.ipynb',\n",
        "            'QC_recoding_dataframe.ipynb',\n",
        "            'Analyzers/input_resistance_analyzer.ipynb',\n",
        "            'Analyzers/gain_analyzer.ipynb',\n",
        "            'Analyzers/latencey_analyzer.ipynb',\n",
        "            'Analyzers/IV_analyzer.ipynb',\n",
        "            'Analyzers/Vm_analyzer.ipynb',\n",
        "            'Analyzers/membrane_analyzer.ipynb',\n",
        "            'Analyzers/rheobase_analyzer.ipynb',\n",
        "            'Pipeline_Wrapper.ipynb',\n",
        "            ]\n",
        "for i in to_import:\n",
        "    f = '/content/EphysLib/' + i\n",
        "    %run $f\n",
        "\n",
        "\n"
      ]
    },
    {
      "cell_type": "code",
      "source": [
        "##### Setup Protocol List\n",
        "VC_prot = ['VC - MemTest-10ms-160ms',\n",
        "           'VC - Multi IV - 150ms',]\n",
        "IC_prot = ['IC - Gain - D20pA',\n",
        "           'IC - Gain - D50pA',\n",
        "           'IC - Rheobase',\n",
        "           'IC - R input',\n",
        "           'IC - Latentcy 800pA-1s',\n",
        "           'VC - 3min GapFree',\n",
        "           'I0 - 3min GapFree']"
      ],
      "metadata": {
        "id": "niUPokFNRKIj"
      },
      "execution_count": null,
      "outputs": []
    },
    {
      "cell_type": "code",
      "source": [
        "dataset = {'data_name': 'Floxed_APOE',\n",
        "           'data_source': \"https://www.dropbox.com/sh/x4mmoozuo0dp1ed/AAB5Nz3_vSg3wqnfqwgrjNGKa?dl=0\",\n",
        "           'file_naming_scheme': ['Recording_date','GenoType','Sex','Age','Slice_Num','Cell_num','Cell_Type'],\n",
        "           }\n",
        "\n",
        "results = ephys_wrapper(dataset,VC_prot,IC_prot,strat_cols=['GenoType', 'Cell_Type'])"
      ],
      "metadata": {
        "id": "tgssFswaRKmT"
      },
      "execution_count": null,
      "outputs": []
    },
    {
      "cell_type": "code",
      "source": [
        "strat_df_dict = results['strat_df_dict']\n",
        "\n",
        "labels = ['Rec_date', 'Virus', 'GenoType', 'Sex', 'Age', 'Slice_Num', 'Cell_num', 'Cell_Type']\n",
        "\n",
        "possible_cols = list(strat_df_dict[list(strat_df_dict.keys())[0]].columns)\n",
        "alt_strat_groups = ['Cm_pc_10.0',\n",
        "                    'Ra_160.0',\n",
        "                    'Rm_160.0',\n",
        "                    'Cmq_160.0',\n",
        "                    'Gain_(Hz/pA)',\n",
        "                    'Rheobase',\n",
        "                    'AP_thresh_US',\n",
        "                    'fast_after_hyperpol',\n",
        "                    'Spike_latency_(ms)',\n",
        "                    'Input_Resistance_MO',\n",
        "                    'Rmp_mV',\n",
        "                    [c for c in possible_cols if 'Stim_Levels_(pA)' in c],\n",
        "                    [c for c in possible_cols if 'Spike_Counts' in c],\n",
        "                    [c for c in possible_cols if 'IV_Early_(V_stim)' in c],\n",
        "                    [c for c in possible_cols if 'IV_Steady_State_(I_mean)' in c],\n",
        "                    [c for c in possible_cols if 'IV_Early_(I_peak)' in c],\n",
        "                    ]\n",
        "\n",
        "alt_strat_dict = restrat(strat_df_dict,alt_strat_groups  )\n",
        "write_strat_dfs(alt_strat_dict, dataset['data_name']+'_results_stratified_alternate')"
      ],
      "metadata": {
        "id": "V0LdDlc_YqXM"
      },
      "execution_count": null,
      "outputs": []
    },
    {
      "cell_type": "code",
      "source": [],
      "metadata": {
        "id": "77dzxBeMeUce"
      },
      "execution_count": null,
      "outputs": []
    }
  ]
}